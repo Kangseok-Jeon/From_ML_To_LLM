{
  "nbformat": 4,
  "nbformat_minor": 0,
  "metadata": {
    "colab": {
      "provenance": [],
      "authorship_tag": "ABX9TyOXq4QhTEc/8yPgX1K9hb5z",
      "include_colab_link": true
    },
    "kernelspec": {
      "name": "python3",
      "display_name": "Python 3"
    },
    "language_info": {
      "name": "python"
    }
  },
  "cells": [
    {
      "cell_type": "markdown",
      "metadata": {
        "id": "view-in-github",
        "colab_type": "text"
      },
      "source": [
        "<a href=\"https://colab.research.google.com/github/Kangseok-Jeon/From_ML_To_LLM/blob/main/01_linear_regression.ipynb\" target=\"_parent\"><img src=\"https://colab.research.google.com/assets/colab-badge.svg\" alt=\"Open In Colab\"/></a>"
      ]
    },
    {
      "cell_type": "code",
      "execution_count": null,
      "metadata": {
        "id": "1Cy-_YvR4pSF"
      },
      "outputs": [],
      "source": [
        "# ==========================================\n",
        "# 01. Linear Regression (선형 회귀)\n",
        "# ==========================================\n",
        "#\n",
        "# - 목적: 독립 변수(X)와 종속 변수(y) 사이의 선형 관계를 모델링\n",
        "# - 적용 사례:\n",
        "#   * 주택 가격 예측\n",
        "#   * 판매량 예측\n",
        "#   * 경제 지표 분석 등\n",
        "#\n",
        "# - 핵심 개념:\n",
        "#   * 데이터가 직선 형태의 관계를 가질 때 사용\n",
        "#   * 모델 식: y = aX + b\n",
        "#     - a: 기울기 (slope)\n",
        "#     - b: 절편 (intercept)\n",
        "#\n",
        "# - 이 예시에서는:\n",
        "#   * California Housing 데이터셋을 사용\n",
        "#   * 'AveRooms' (평균 객실 수)로 주택 가격을 선형 회귀로 예측\n",
        "# ==========================================\n",
        "\n",
        "# 기본 라이브러리\n",
        "import numpy as np\n",
        "import pandas as pd\n",
        "import matplotlib.pyplot as plt\n",
        "\n",
        "# 사이킷런 (scikit-learn)\n",
        "from sklearn.datasets import fetch_california_housing\n",
        "from sklearn.linear_model import LinearRegression\n",
        "from sklearn.metrics import mean_squared_error, r2_score\n",
        "from sklearn.model_selection import train_test_split"
      ]
    },
    {
      "cell_type": "code",
      "source": [
        "# 데이터 로드\n",
        "data = fetch_california_housing()\n",
        "X = pd.DataFrame(data.data, columns=data.feature_names)\n",
        "y = data.target\n",
        "\n",
        "# 훈련/테스트 데이터 분리 (8:2 비율)\n",
        "X_train, X_test, y_train, y_test = train_test_split(X, y, test_size=0.2, random_state=42)"
      ],
      "metadata": {
        "id": "rWo-KV4-5PsY"
      },
      "execution_count": null,
      "outputs": []
    },
    {
      "cell_type": "code",
      "source": [
        "# 선형 회귀 모델 생성\n",
        "model = LinearRegression()\n",
        "\n",
        "# 훈련 데이터로 학습\n",
        "model.fit(X_train, y_train)\n",
        "\n",
        "# 학습 결과 출력\n",
        "print(f\"각 변수 계수 (기여도): {model.coef_}\")\n",
        "print(f\"절편 (Intercept): {model.intercept_:.4f}\")"
      ],
      "metadata": {
        "id": "rWrWX-zF6zFW",
        "outputId": "2fa69cd2-1be0-4cf3-dd36-d79193d693a2",
        "colab": {
          "base_uri": "https://localhost:8080/"
        }
      },
      "execution_count": null,
      "outputs": [
        {
          "output_type": "stream",
          "name": "stdout",
          "text": [
            "각 변수 계수 (기여도): [ 4.48674910e-01  9.72425752e-03 -1.23323343e-01  7.83144907e-01\n",
            " -2.02962058e-06 -3.52631849e-03 -4.19792487e-01 -4.33708065e-01]\n",
            "절편 (Intercept): -37.0233\n"
          ]
        }
      ]
    },
    {
      "cell_type": "code",
      "source": [
        "# 테스트 데이터 예측\n",
        "predictions = model.predict(X_test)\n",
        "\n",
        "# 평가 지표\n",
        "mse = mean_squared_error(y_test, predictions)\n",
        "r2 = r2_score(y_test, predictions)\n",
        "\n",
        "print(f\"평균 제곱 오차 (MSE): {mse:.4f}\")\n",
        "print(f\"결정 계수 (R^2 Score): {r2:.4f}\")"
      ],
      "metadata": {
        "id": "k5f3z-FA60dB",
        "outputId": "2edc60b4-d37f-4ea2-e43b-9c1a1be77e9d",
        "colab": {
          "base_uri": "https://localhost:8080/"
        }
      },
      "execution_count": null,
      "outputs": [
        {
          "output_type": "stream",
          "name": "stdout",
          "text": [
            "평균 제곱 오차 (MSE): 0.5559\n",
            "결정 계수 (R^2 Score): 0.5758\n"
          ]
        }
      ]
    }
  ]
}